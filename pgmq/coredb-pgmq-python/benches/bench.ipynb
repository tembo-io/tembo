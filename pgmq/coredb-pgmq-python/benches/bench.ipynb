{
 "cells": [
  {
   "attachments": {},
   "cell_type": "markdown",
   "metadata": {},
   "source": [
    "# Instructions\n",
    "\n",
    "Run the bench script first: `poetry run python benches/bench.py`. That will output a csv - read csv below:"
   ]
  },
  {
   "cell_type": "code",
   "execution_count": null,
   "metadata": {},
   "outputs": [],
   "source": [
    "import pandas as pd\n",
    "alldf = pd.read_csv(\"../all_results_adam4_duration_3600_tps_2400.csv\")\n",
    "alldf = alldf[alldf[\"operation\"] != \"archiveread\"]\n",
    "alldf[\"duration_ms\"] = alldf[\"duration\"] * 1000\n",
    "alldf.head()"
   ]
  },
  {
   "attachments": {},
   "cell_type": "markdown",
   "metadata": {},
   "source": [
    "# bplot"
   ]
  },
  {
   "cell_type": "code",
   "execution_count": null,
   "metadata": {},
   "outputs": [],
   "source": [
    "\n",
    "n_messages = alldf[alldf[\"operation\"] == \"write\"].shape[0]\n",
    "bbplot = alldf.boxplot(\n",
    "    column=\"duration_ms\",\n",
    "    by=\"operation\",\n",
    "    fontsize=12,\n",
    "    layout=(2,1),\n",
    "    rot=90,\n",
    "    figsize=(25,20),\n",
    "    return_type='axes'\n",
    ")\n",
    "\n",
    "bbplot[0].set_ylabel('Milliseconds')\n",
    "bbplot[0].set_title(f'N = {n_messages}')\n"
   ]
  },
  {
   "attachments": {},
   "cell_type": "markdown",
   "metadata": {},
   "source": [
    "# Plots"
   ]
  },
  {
   "cell_type": "code",
   "execution_count": null,
   "metadata": {},
   "outputs": [],
   "source": [
    "alldf.groupby(\"operation\")[\"duration_ms\"].describe()\n",
    "bar = alldf.groupby(\"operation\")[\"duration_ms\"].describe()[[\"mean\"]].plot(kind=\"bar\")\n",
    "bar.set_xlabel(\"Operation\")\n",
    "bar.set_ylabel(\"Milliseconds\")"
   ]
  },
  {
   "cell_type": "code",
   "execution_count": null,
   "metadata": {},
   "outputs": [],
   "source": [
    "from matplotlib import pyplot as plt\n",
    "wide_df = pd.pivot(alldf[alldf[\"operation\"] != \"write\"], index=\"msg_id\", columns=\"operation\", values=\"duration_ms\")\n",
    "mean_df = wide_df.rolling(100_000).mean()"
   ]
  },
  {
   "cell_type": "code",
   "execution_count": null,
   "metadata": {},
   "outputs": [],
   "source": [
    "ax = mean_df.plot(figsize=(20,10))\n",
    "\n",
    "ax.set_xlabel(\"Message Number\")\n",
    "ax.set_ylabel(\"Duration (ms)\")\n",
    "plt.suptitle(f\"Rolling Average Operation Duration (100k window)\")\n",
    "plt.title(f\"Duration_seconds: 10800, TPS: 600\")\n",
    "\n",
    "import matplotlib.transforms as transforms\n",
    "trans = transforms.blended_transform_factory(\n",
    "    ax.transAxes, ax.transAxes\n",
    ")\n",
    "params = {\"x\": \"y\", \"ab\": 100_000_000}\n",
    "import json\n",
    "\n",
    "ann = ax.annotate(json.dumps(params, indent=2), xy=(-0.15, 1.0 ), xycoords=trans)\n",
    "# plt.savefig(f\"rolling_avg_10800_600.png\")\n",
    "\n",
    "plt.show()"
   ]
  },
  {
   "cell_type": "code",
   "execution_count": null,
   "metadata": {},
   "outputs": [],
   "source": [
    "# Namespace(duration_seconds=3600, tps=2400, agg_window=10000, partition_interval=10000, message_retention=1000000, read_concurrency=4, bench_name='adam4')\n",
    "alldf.groupby(\"operation\")[\"duration_ms\"].describe()"
   ]
  }
 ],
 "metadata": {
  "kernelspec": {
   "display_name": ".venv",
   "language": "python",
   "name": "python3"
  },
  "language_info": {
   "codemirror_mode": {
    "name": "ipython",
    "version": 3
   },
   "file_extension": ".py",
   "mimetype": "text/x-python",
   "name": "python",
   "nbconvert_exporter": "python",
   "pygments_lexer": "ipython3",
   "version": "3.11.3"
  },
  "orig_nbformat": 4
 },
 "nbformat": 4,
 "nbformat_minor": 2
}

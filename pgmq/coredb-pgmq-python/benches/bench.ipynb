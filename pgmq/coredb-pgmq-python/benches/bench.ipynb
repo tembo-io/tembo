{
 "cells": [
  {
   "cell_type": "code",
   "execution_count": null,
   "metadata": {},
   "outputs": [],
   "source": [
    "from benches.bench import bench_line_item\n",
    "\n",
    "\n",
    "host = \"localhost\"\n",
    "port = 5432\n",
    "username = \"postgres\"\n",
    "num_messages = 10_000\n",
    "\n",
    "all_results = bench_line_item(\n",
    "    host=host, \n",
    "    port=port,\n",
    "    username=username,\n",
    "    num_messages=num_messages,\n",
    "    # 10k messages per partition\n",
    "    partition_interval=10000,\n",
    "    # retain all the messages\n",
    "    retention_interval=num_messages\n",
    ")"
   ]
  },
  {
   "attachments": {},
   "cell_type": "markdown",
   "metadata": {},
   "source": [
    "# Operation in Boxplot"
   ]
  },
  {
   "cell_type": "code",
   "execution_count": null,
   "metadata": {},
   "outputs": [],
   "source": [
    "import pandas as pd\n",
    "\n",
    "df = pd.DataFrame(all_results)\n",
    "# convert seconds to milliseconds\n",
    "df[\"duration\"] = df[\"duration\"] * 1000\n",
    "bbplot = df.boxplot(column=\"duration\",\n",
    "                    by=\"operation\",\n",
    "                    fontsize=12,\n",
    "                    layout=(2,1),\n",
    "                    rot=90,\n",
    "                    figsize=(25,20),\n",
    "                    return_type='axes')\n",
    "\n",
    "bbplot[0].set_ylabel('Milliseconds')\n",
    "bbplot[0].set_title(f'N = {num_messages}')\n"
   ]
  },
  {
   "cell_type": "code",
   "execution_count": null,
   "metadata": {},
   "outputs": [],
   "source": []
  },
  {
   "cell_type": "code",
   "execution_count": null,
   "metadata": {},
   "outputs": [],
   "source": []
  },
  {
   "attachments": {},
   "cell_type": "markdown",
   "metadata": {},
   "source": [
    "# Bar Charts"
   ]
  },
  {
   "cell_type": "code",
   "execution_count": null,
   "metadata": {},
   "outputs": [],
   "source": [
    "df.groupby(\"operation\")[\"duration\"].describe()"
   ]
  },
  {
   "cell_type": "code",
   "execution_count": null,
   "metadata": {},
   "outputs": [],
   "source": [
    "bar = df.groupby(\"operation\")[\"duration\"].describe()[[\"mean\"]].plot(kind=\"bar\")\n",
    "bar.set_xlabel(\"Operation\")\n",
    "bar.set_ylabel(\"Milliseconds\")"
   ]
  },
  {
   "cell_type": "code",
   "execution_count": null,
   "metadata": {},
   "outputs": [],
   "source": []
  }
 ],
 "metadata": {
  "kernelspec": {
   "display_name": ".venv",
   "language": "python",
   "name": "python3"
  },
  "language_info": {
   "codemirror_mode": {
    "name": "ipython",
    "version": 3
   },
   "file_extension": ".py",
   "mimetype": "text/x-python",
   "name": "python",
   "nbconvert_exporter": "python",
   "pygments_lexer": "ipython3",
   "version": "3.11.3"
  },
  "orig_nbformat": 4
 },
 "nbformat": 4,
 "nbformat_minor": 2
}

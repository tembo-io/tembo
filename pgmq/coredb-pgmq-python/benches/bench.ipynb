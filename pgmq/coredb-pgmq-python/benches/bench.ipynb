{
 "cells": [
  {
   "attachments": {},
   "cell_type": "markdown",
   "metadata": {},
   "source": [
    "# Instructions\n",
    "\n",
    "Run the bench script first: `poetry run python benches/bench.py`. That will output a csv - read csv below:"
   ]
  },
  {
   "cell_type": "code",
   "execution_count": null,
   "metadata": {},
   "outputs": [],
   "source": [
    "import pandas as pd\n",
    "alldf = pd.read_csv(\"../all_results_684_duration_10800_tps_600.csv\")\n",
    "alldf[\"duration_ms\"] = alldf[\"duration\"] * 1000\n",
    "alldf.head()"
   ]
  },
  {
   "attachments": {},
   "cell_type": "markdown",
   "metadata": {},
   "source": [
    "# bplot"
   ]
  },
  {
   "cell_type": "code",
   "execution_count": null,
   "metadata": {},
   "outputs": [],
   "source": [
    "\n",
    "# convert seconds to milliseconds\n",
    "n_messages = alldf[alldf[\"operation\"] == \"write\"].shape[0]\n",
    "bbplot = alldf.boxplot(\n",
    "    column=\"duration_ms\",\n",
    "    by=\"operation\",\n",
    "    fontsize=12,\n",
    "    layout=(2,1),\n",
    "    rot=90,\n",
    "    figsize=(25,20),\n",
    "    return_type='axes'\n",
    ")\n",
    "\n",
    "bbplot[0].set_ylabel('Milliseconds')\n",
    "bbplot[0].set_title(f'N = {n_messages}')\n"
   ]
  },
  {
   "attachments": {},
   "cell_type": "markdown",
   "metadata": {},
   "source": [
    "# Plots"
   ]
  },
  {
   "cell_type": "code",
   "execution_count": null,
   "metadata": {},
   "outputs": [],
   "source": [
    "alldf.groupby(\"operation\")[\"duration\"].describe()\n",
    "bar = alldf.groupby(\"operation\")[\"duration\"].describe()[[\"mean\"]].plot(kind=\"bar\")\n",
    "bar.set_xlabel(\"Operation\")\n",
    "bar.set_ylabel(\"Milliseconds\")"
   ]
  },
  {
   "cell_type": "code",
   "execution_count": null,
   "metadata": {},
   "outputs": [],
   "source": [
    "bar = alldf.groupby(\"operation\")[\"duration_ms\"].describe()[[\"mean\"]].plot(kind=\"bar\")\n",
    "bar.set_xlabel(\"Operation\")\n",
    "bar.set_ylabel(\"Duration (ms)\")"
   ]
  },
  {
   "cell_type": "code",
   "execution_count": null,
   "metadata": {},
   "outputs": [],
   "source": [
    "wide_df = pd.pivot(alldf, index=\"msg_id\", columns=\"operation\", values=\"duration_ms\")"
   ]
  },
  {
   "cell_type": "code",
   "execution_count": null,
   "metadata": {},
   "outputs": [],
   "source": [
    "ax = wide_df.rolling(100_000).mean().plot(figsize=(20,10))\n",
    "ax.set_xlabel(\"Message Number\")\n",
    "ax.set_ylabel(\"Duration (ms)\")\n",
    "ax.set_title(\"Rolling Average of Message Duration, 100k window\")"
   ]
  }
 ],
 "metadata": {
  "kernelspec": {
   "display_name": ".venv",
   "language": "python",
   "name": "python3"
  },
  "language_info": {
   "codemirror_mode": {
    "name": "ipython",
    "version": 3
   },
   "file_extension": ".py",
   "mimetype": "text/x-python",
   "name": "python",
   "nbconvert_exporter": "python",
   "pygments_lexer": "ipython3",
   "version": "3.11.3"
  },
  "orig_nbformat": 4
 },
 "nbformat": 4,
 "nbformat_minor": 2
}
